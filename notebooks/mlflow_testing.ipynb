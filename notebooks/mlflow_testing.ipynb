{
 "cells": [
  {
   "cell_type": "code",
   "execution_count": 6,
   "metadata": {
    "collapsed": true
   },
   "outputs": [],
   "source": [
    "import mlflow"
   ]
  },
  {
   "cell_type": "code",
   "execution_count": 7,
   "outputs": [
    {
     "ename": "MlflowException",
     "evalue": "Model Registry features are not supported by the store with URI: 'file:///Users/albertima/Projects/TradingRL/notebooks/mlruns'. Stores with the following URI schemes are supported: ['databricks', 'http', 'https', 'postgresql', 'mysql', 'sqlite', 'mssql'].",
     "output_type": "error",
     "traceback": [
      "\u001B[0;31m---------------------------------------------------------------------------\u001B[0m",
      "\u001B[0;31mKeyError\u001B[0m                                  Traceback (most recent call last)",
      "\u001B[0;32m~/PIRELLI/venv/lib/python3.8/site-packages/mlflow/tracking/registry.py\u001B[0m in \u001B[0;36mget_store_builder\u001B[0;34m(self, store_uri)\u001B[0m\n\u001B[1;32m     75\u001B[0m         \u001B[0;32mtry\u001B[0m\u001B[0;34m:\u001B[0m\u001B[0;34m\u001B[0m\u001B[0;34m\u001B[0m\u001B[0m\n\u001B[0;32m---> 76\u001B[0;31m             \u001B[0mstore_builder\u001B[0m \u001B[0;34m=\u001B[0m \u001B[0mself\u001B[0m\u001B[0;34m.\u001B[0m\u001B[0m_registry\u001B[0m\u001B[0;34m[\u001B[0m\u001B[0mscheme\u001B[0m\u001B[0;34m]\u001B[0m\u001B[0;34m\u001B[0m\u001B[0;34m\u001B[0m\u001B[0m\n\u001B[0m\u001B[1;32m     77\u001B[0m         \u001B[0;32mexcept\u001B[0m \u001B[0mKeyError\u001B[0m\u001B[0;34m:\u001B[0m\u001B[0;34m\u001B[0m\u001B[0;34m\u001B[0m\u001B[0m\n",
      "\u001B[0;31mKeyError\u001B[0m: 'file'",
      "\nDuring handling of the above exception, another exception occurred:\n",
      "\u001B[0;31mUnsupportedModelRegistryStoreURIException\u001B[0m Traceback (most recent call last)",
      "\u001B[0;32m~/PIRELLI/venv/lib/python3.8/site-packages/mlflow/tracking/client.py\u001B[0m in \u001B[0;36m_get_registry_client\u001B[0;34m(self)\u001B[0m\n\u001B[1;32m     94\u001B[0m             \u001B[0;32mtry\u001B[0m\u001B[0;34m:\u001B[0m\u001B[0;34m\u001B[0m\u001B[0;34m\u001B[0m\u001B[0m\n\u001B[0;32m---> 95\u001B[0;31m                 \u001B[0mregistry_client\u001B[0m \u001B[0;34m=\u001B[0m \u001B[0mModelRegistryClient\u001B[0m\u001B[0;34m(\u001B[0m\u001B[0mself\u001B[0m\u001B[0;34m.\u001B[0m\u001B[0m_registry_uri\u001B[0m\u001B[0;34m)\u001B[0m\u001B[0;34m\u001B[0m\u001B[0;34m\u001B[0m\u001B[0m\n\u001B[0m\u001B[1;32m     96\u001B[0m                 \u001B[0;31m# Define an instance variable on this `MlflowClient` instance to reference the\u001B[0m\u001B[0;34m\u001B[0m\u001B[0;34m\u001B[0m\u001B[0;34m\u001B[0m\u001B[0m\n",
      "\u001B[0;32m~/PIRELLI/venv/lib/python3.8/site-packages/mlflow/tracking/_model_registry/client.py\u001B[0m in \u001B[0;36m__init__\u001B[0;34m(self, registry_uri)\u001B[0m\n\u001B[1;32m     35\u001B[0m         \u001B[0;31m# property method to ensure that the client is serializable, even if the store is not\u001B[0m\u001B[0;34m\u001B[0m\u001B[0;34m\u001B[0m\u001B[0;34m\u001B[0m\u001B[0m\n\u001B[0;32m---> 36\u001B[0;31m         \u001B[0mself\u001B[0m\u001B[0;34m.\u001B[0m\u001B[0mstore\u001B[0m  \u001B[0;31m# pylint: disable=pointless-statement\u001B[0m\u001B[0;34m\u001B[0m\u001B[0;34m\u001B[0m\u001B[0m\n\u001B[0m\u001B[1;32m     37\u001B[0m \u001B[0;34m\u001B[0m\u001B[0m\n",
      "\u001B[0;32m~/PIRELLI/venv/lib/python3.8/site-packages/mlflow/tracking/_model_registry/client.py\u001B[0m in \u001B[0;36mstore\u001B[0;34m(self)\u001B[0m\n\u001B[1;32m     39\u001B[0m     \u001B[0;32mdef\u001B[0m \u001B[0mstore\u001B[0m\u001B[0;34m(\u001B[0m\u001B[0mself\u001B[0m\u001B[0;34m)\u001B[0m\u001B[0;34m:\u001B[0m\u001B[0;34m\u001B[0m\u001B[0;34m\u001B[0m\u001B[0m\n\u001B[0;32m---> 40\u001B[0;31m         \u001B[0;32mreturn\u001B[0m \u001B[0mutils\u001B[0m\u001B[0;34m.\u001B[0m\u001B[0m_get_store\u001B[0m\u001B[0;34m(\u001B[0m\u001B[0mself\u001B[0m\u001B[0;34m.\u001B[0m\u001B[0mregistry_uri\u001B[0m\u001B[0;34m)\u001B[0m\u001B[0;34m\u001B[0m\u001B[0;34m\u001B[0m\u001B[0m\n\u001B[0m\u001B[1;32m     41\u001B[0m \u001B[0;34m\u001B[0m\u001B[0m\n",
      "\u001B[0;32m~/PIRELLI/venv/lib/python3.8/site-packages/mlflow/tracking/_model_registry/utils.py\u001B[0m in \u001B[0;36m_get_store\u001B[0;34m(store_uri)\u001B[0m\n\u001B[1;32m    168\u001B[0m \u001B[0;32mdef\u001B[0m \u001B[0m_get_store\u001B[0m\u001B[0;34m(\u001B[0m\u001B[0mstore_uri\u001B[0m\u001B[0;34m=\u001B[0m\u001B[0;32mNone\u001B[0m\u001B[0;34m)\u001B[0m\u001B[0;34m:\u001B[0m\u001B[0;34m\u001B[0m\u001B[0;34m\u001B[0m\u001B[0m\n\u001B[0;32m--> 169\u001B[0;31m     \u001B[0;32mreturn\u001B[0m \u001B[0m_get_store_registry\u001B[0m\u001B[0;34m(\u001B[0m\u001B[0;34m)\u001B[0m\u001B[0;34m.\u001B[0m\u001B[0mget_store\u001B[0m\u001B[0;34m(\u001B[0m\u001B[0mstore_uri\u001B[0m\u001B[0;34m)\u001B[0m\u001B[0;34m\u001B[0m\u001B[0;34m\u001B[0m\u001B[0m\n\u001B[0m",
      "\u001B[0;32m~/PIRELLI/venv/lib/python3.8/site-packages/mlflow/tracking/_model_registry/registry.py\u001B[0m in \u001B[0;36mget_store\u001B[0;34m(self, store_uri)\u001B[0m\n\u001B[1;32m     36\u001B[0m         \u001B[0mresolved_store_uri\u001B[0m \u001B[0;34m=\u001B[0m \u001B[0mutils\u001B[0m\u001B[0;34m.\u001B[0m\u001B[0m_resolve_registry_uri\u001B[0m\u001B[0;34m(\u001B[0m\u001B[0mstore_uri\u001B[0m\u001B[0;34m)\u001B[0m\u001B[0;34m\u001B[0m\u001B[0;34m\u001B[0m\u001B[0m\n\u001B[0;32m---> 37\u001B[0;31m         \u001B[0;32mreturn\u001B[0m \u001B[0mself\u001B[0m\u001B[0;34m.\u001B[0m\u001B[0m_get_store_with_resolved_uri\u001B[0m\u001B[0;34m(\u001B[0m\u001B[0mresolved_store_uri\u001B[0m\u001B[0;34m)\u001B[0m\u001B[0;34m\u001B[0m\u001B[0;34m\u001B[0m\u001B[0m\n\u001B[0m\u001B[1;32m     38\u001B[0m \u001B[0;34m\u001B[0m\u001B[0m\n",
      "\u001B[0;32m~/PIRELLI/venv/lib/python3.8/site-packages/mlflow/tracking/_model_registry/registry.py\u001B[0m in \u001B[0;36m_get_store_with_resolved_uri\u001B[0;34m(self, resolved_store_uri)\u001B[0m\n\u001B[1;32m     45\u001B[0m         \"\"\"\n\u001B[0;32m---> 46\u001B[0;31m         \u001B[0mbuilder\u001B[0m \u001B[0;34m=\u001B[0m \u001B[0mself\u001B[0m\u001B[0;34m.\u001B[0m\u001B[0mget_store_builder\u001B[0m\u001B[0;34m(\u001B[0m\u001B[0mresolved_store_uri\u001B[0m\u001B[0;34m)\u001B[0m\u001B[0;34m\u001B[0m\u001B[0;34m\u001B[0m\u001B[0m\n\u001B[0m\u001B[1;32m     47\u001B[0m         \u001B[0;32mreturn\u001B[0m \u001B[0mbuilder\u001B[0m\u001B[0;34m(\u001B[0m\u001B[0mstore_uri\u001B[0m\u001B[0;34m=\u001B[0m\u001B[0mresolved_store_uri\u001B[0m\u001B[0;34m)\u001B[0m\u001B[0;34m\u001B[0m\u001B[0;34m\u001B[0m\u001B[0m\n",
      "\u001B[0;32m~/PIRELLI/venv/lib/python3.8/site-packages/mlflow/tracking/registry.py\u001B[0m in \u001B[0;36mget_store_builder\u001B[0;34m(self, store_uri)\u001B[0m\n\u001B[1;32m     77\u001B[0m         \u001B[0;32mexcept\u001B[0m \u001B[0mKeyError\u001B[0m\u001B[0;34m:\u001B[0m\u001B[0;34m\u001B[0m\u001B[0;34m\u001B[0m\u001B[0m\n\u001B[0;32m---> 78\u001B[0;31m             raise UnsupportedModelRegistryStoreURIException(\n\u001B[0m\u001B[1;32m     79\u001B[0m                 \u001B[0munsupported_uri\u001B[0m\u001B[0;34m=\u001B[0m\u001B[0mstore_uri\u001B[0m\u001B[0;34m,\u001B[0m \u001B[0msupported_uri_schemes\u001B[0m\u001B[0;34m=\u001B[0m\u001B[0mlist\u001B[0m\u001B[0;34m(\u001B[0m\u001B[0mself\u001B[0m\u001B[0;34m.\u001B[0m\u001B[0m_registry\u001B[0m\u001B[0;34m.\u001B[0m\u001B[0mkeys\u001B[0m\u001B[0;34m(\u001B[0m\u001B[0;34m)\u001B[0m\u001B[0;34m)\u001B[0m\u001B[0;34m\u001B[0m\u001B[0;34m\u001B[0m\u001B[0m\n",
      "\u001B[0;31mUnsupportedModelRegistryStoreURIException\u001B[0m:  Model registry functionality is unavailable; got unsupported URI 'file:///Users/albertima/Projects/TradingRL/notebooks/mlruns' for model registry data storage. Supported URI schemes are: ['databricks', 'http', 'https', 'postgresql', 'mysql', 'sqlite', 'mssql']. See https://www.mlflow.org/docs/latest/tracking.html#storage for how to run an MLflow server against one of the supported backend storage locations.",
      "\nDuring handling of the above exception, another exception occurred:\n",
      "\u001B[0;31mMlflowException\u001B[0m                           Traceback (most recent call last)",
      "\u001B[0;32m<ipython-input-7-fecec92b0bda>\u001B[0m in \u001B[0;36m<module>\u001B[0;34m\u001B[0m\n\u001B[1;32m     10\u001B[0m     \u001B[0msk_learn_rfr\u001B[0m \u001B[0;34m=\u001B[0m \u001B[0mRandomForestRegressor\u001B[0m\u001B[0;34m(\u001B[0m\u001B[0;34m**\u001B[0m\u001B[0mparams\u001B[0m\u001B[0;34m)\u001B[0m\u001B[0;34m\u001B[0m\u001B[0;34m\u001B[0m\u001B[0m\n\u001B[1;32m     11\u001B[0m \u001B[0;34m\u001B[0m\u001B[0m\n\u001B[0;32m---> 12\u001B[0;31m     mlflow.sklearn.log_model(\n\u001B[0m\u001B[1;32m     13\u001B[0m             \u001B[0msk_model\u001B[0m\u001B[0;34m=\u001B[0m\u001B[0;34m\"RandomForest\"\u001B[0m\u001B[0;34m,\u001B[0m\u001B[0;34m\u001B[0m\u001B[0;34m\u001B[0m\u001B[0m\n\u001B[1;32m     14\u001B[0m             \u001B[0martifact_path\u001B[0m\u001B[0;34m=\u001B[0m\u001B[0;34m\"sklearn-model\"\u001B[0m\u001B[0;34m,\u001B[0m\u001B[0;34m\u001B[0m\u001B[0;34m\u001B[0m\u001B[0m\n",
      "\u001B[0;32m~/PIRELLI/venv/lib/python3.8/site-packages/mlflow/sklearn/__init__.py\u001B[0m in \u001B[0;36mlog_model\u001B[0;34m(sk_model, artifact_path, conda_env, serialization_format, registered_model_name, signature, input_example, await_registration_for, pip_requirements, extra_pip_requirements)\u001B[0m\n\u001B[1;32m    372\u001B[0m         \u001B[0mmlflow\u001B[0m\u001B[0;34m.\u001B[0m\u001B[0msklearn\u001B[0m\u001B[0;34m.\u001B[0m\u001B[0mlog_model\u001B[0m\u001B[0;34m(\u001B[0m\u001B[0msk_model\u001B[0m\u001B[0;34m,\u001B[0m \u001B[0;34m\"sk_models\"\u001B[0m\u001B[0;34m)\u001B[0m\u001B[0;34m\u001B[0m\u001B[0;34m\u001B[0m\u001B[0m\n\u001B[1;32m    373\u001B[0m     \"\"\"\n\u001B[0;32m--> 374\u001B[0;31m     Model.log(\n\u001B[0m\u001B[1;32m    375\u001B[0m         \u001B[0martifact_path\u001B[0m\u001B[0;34m=\u001B[0m\u001B[0martifact_path\u001B[0m\u001B[0;34m,\u001B[0m\u001B[0;34m\u001B[0m\u001B[0;34m\u001B[0m\u001B[0m\n\u001B[1;32m    376\u001B[0m         \u001B[0mflavor\u001B[0m\u001B[0;34m=\u001B[0m\u001B[0mmlflow\u001B[0m\u001B[0;34m.\u001B[0m\u001B[0msklearn\u001B[0m\u001B[0;34m,\u001B[0m\u001B[0;34m\u001B[0m\u001B[0;34m\u001B[0m\u001B[0m\n",
      "\u001B[0;32m~/PIRELLI/venv/lib/python3.8/site-packages/mlflow/models/model.py\u001B[0m in \u001B[0;36mlog\u001B[0;34m(cls, artifact_path, flavor, registered_model_name, await_registration_for, **kwargs)\u001B[0m\n\u001B[1;32m    195\u001B[0m             \u001B[0;32mif\u001B[0m \u001B[0mregistered_model_name\u001B[0m \u001B[0;32mis\u001B[0m \u001B[0;32mnot\u001B[0m \u001B[0;32mNone\u001B[0m\u001B[0;34m:\u001B[0m\u001B[0;34m\u001B[0m\u001B[0;34m\u001B[0m\u001B[0m\n\u001B[1;32m    196\u001B[0m                 \u001B[0mrun_id\u001B[0m \u001B[0;34m=\u001B[0m \u001B[0mmlflow\u001B[0m\u001B[0;34m.\u001B[0m\u001B[0mtracking\u001B[0m\u001B[0;34m.\u001B[0m\u001B[0mfluent\u001B[0m\u001B[0;34m.\u001B[0m\u001B[0mactive_run\u001B[0m\u001B[0;34m(\u001B[0m\u001B[0;34m)\u001B[0m\u001B[0;34m.\u001B[0m\u001B[0minfo\u001B[0m\u001B[0;34m.\u001B[0m\u001B[0mrun_id\u001B[0m\u001B[0;34m\u001B[0m\u001B[0;34m\u001B[0m\u001B[0m\n\u001B[0;32m--> 197\u001B[0;31m                 mlflow.register_model(\n\u001B[0m\u001B[1;32m    198\u001B[0m                     \u001B[0;34m\"runs:/%s/%s\"\u001B[0m \u001B[0;34m%\u001B[0m \u001B[0;34m(\u001B[0m\u001B[0mrun_id\u001B[0m\u001B[0;34m,\u001B[0m \u001B[0martifact_path\u001B[0m\u001B[0;34m)\u001B[0m\u001B[0;34m,\u001B[0m\u001B[0;34m\u001B[0m\u001B[0;34m\u001B[0m\u001B[0m\n\u001B[1;32m    199\u001B[0m                     \u001B[0mregistered_model_name\u001B[0m\u001B[0;34m,\u001B[0m\u001B[0;34m\u001B[0m\u001B[0;34m\u001B[0m\u001B[0m\n",
      "\u001B[0;32m~/PIRELLI/venv/lib/python3.8/site-packages/mlflow/tracking/_model_registry/fluent.py\u001B[0m in \u001B[0;36mregister_model\u001B[0;34m(model_uri, name, await_registration_for)\u001B[0m\n\u001B[1;32m     65\u001B[0m             )\n\u001B[1;32m     66\u001B[0m         \u001B[0;32melse\u001B[0m\u001B[0;34m:\u001B[0m\u001B[0;34m\u001B[0m\u001B[0;34m\u001B[0m\u001B[0m\n\u001B[0;32m---> 67\u001B[0;31m             \u001B[0;32mraise\u001B[0m \u001B[0me\u001B[0m\u001B[0;34m\u001B[0m\u001B[0;34m\u001B[0m\u001B[0m\n\u001B[0m\u001B[1;32m     68\u001B[0m \u001B[0;34m\u001B[0m\u001B[0m\n\u001B[1;32m     69\u001B[0m     \u001B[0;32mif\u001B[0m \u001B[0mRunsArtifactRepository\u001B[0m\u001B[0;34m.\u001B[0m\u001B[0mis_runs_uri\u001B[0m\u001B[0;34m(\u001B[0m\u001B[0mmodel_uri\u001B[0m\u001B[0;34m)\u001B[0m\u001B[0;34m:\u001B[0m\u001B[0;34m\u001B[0m\u001B[0;34m\u001B[0m\u001B[0m\n",
      "\u001B[0;32m~/PIRELLI/venv/lib/python3.8/site-packages/mlflow/tracking/_model_registry/fluent.py\u001B[0m in \u001B[0;36mregister_model\u001B[0;34m(model_uri, name, await_registration_for)\u001B[0m\n\u001B[1;32m     56\u001B[0m     \u001B[0mclient\u001B[0m \u001B[0;34m=\u001B[0m \u001B[0mMlflowClient\u001B[0m\u001B[0;34m(\u001B[0m\u001B[0;34m)\u001B[0m\u001B[0;34m\u001B[0m\u001B[0;34m\u001B[0m\u001B[0m\n\u001B[1;32m     57\u001B[0m     \u001B[0;32mtry\u001B[0m\u001B[0;34m:\u001B[0m\u001B[0;34m\u001B[0m\u001B[0;34m\u001B[0m\u001B[0m\n\u001B[0;32m---> 58\u001B[0;31m         \u001B[0mcreate_model_response\u001B[0m \u001B[0;34m=\u001B[0m \u001B[0mclient\u001B[0m\u001B[0;34m.\u001B[0m\u001B[0mcreate_registered_model\u001B[0m\u001B[0;34m(\u001B[0m\u001B[0mname\u001B[0m\u001B[0;34m)\u001B[0m\u001B[0;34m\u001B[0m\u001B[0;34m\u001B[0m\u001B[0m\n\u001B[0m\u001B[1;32m     59\u001B[0m         \u001B[0meprint\u001B[0m\u001B[0;34m(\u001B[0m\u001B[0;34m\"Successfully registered model '%s'.\"\u001B[0m \u001B[0;34m%\u001B[0m \u001B[0mcreate_model_response\u001B[0m\u001B[0;34m.\u001B[0m\u001B[0mname\u001B[0m\u001B[0;34m)\u001B[0m\u001B[0;34m\u001B[0m\u001B[0;34m\u001B[0m\u001B[0m\n\u001B[1;32m     60\u001B[0m     \u001B[0;32mexcept\u001B[0m \u001B[0mMlflowException\u001B[0m \u001B[0;32mas\u001B[0m \u001B[0me\u001B[0m\u001B[0;34m:\u001B[0m\u001B[0;34m\u001B[0m\u001B[0;34m\u001B[0m\u001B[0m\n",
      "\u001B[0;32m~/PIRELLI/venv/lib/python3.8/site-packages/mlflow/tracking/client.py\u001B[0m in \u001B[0;36mcreate_registered_model\u001B[0;34m(self, name, tags, description)\u001B[0m\n\u001B[1;32m   1656\u001B[0m             \u001B[0mdescription\u001B[0m\u001B[0;34m:\u001B[0m \u001B[0mThis\u001B[0m \u001B[0msentiment\u001B[0m \u001B[0manalysis\u001B[0m \u001B[0mmodel\u001B[0m \u001B[0mclassifies\u001B[0m \u001B[0mthe\u001B[0m \u001B[0mtone\u001B[0m\u001B[0;34m-\u001B[0m\u001B[0mhappy\u001B[0m\u001B[0;34m,\u001B[0m \u001B[0msad\u001B[0m\u001B[0;34m,\u001B[0m \u001B[0mangry\u001B[0m\u001B[0;34m.\u001B[0m\u001B[0;34m\u001B[0m\u001B[0;34m\u001B[0m\u001B[0m\n\u001B[1;32m   1657\u001B[0m         \"\"\"\n\u001B[0;32m-> 1658\u001B[0;31m         \u001B[0;32mreturn\u001B[0m \u001B[0mself\u001B[0m\u001B[0;34m.\u001B[0m\u001B[0m_get_registry_client\u001B[0m\u001B[0;34m(\u001B[0m\u001B[0;34m)\u001B[0m\u001B[0;34m.\u001B[0m\u001B[0mcreate_registered_model\u001B[0m\u001B[0;34m(\u001B[0m\u001B[0mname\u001B[0m\u001B[0;34m,\u001B[0m \u001B[0mtags\u001B[0m\u001B[0;34m,\u001B[0m \u001B[0mdescription\u001B[0m\u001B[0;34m)\u001B[0m\u001B[0;34m\u001B[0m\u001B[0;34m\u001B[0m\u001B[0m\n\u001B[0m\u001B[1;32m   1659\u001B[0m \u001B[0;34m\u001B[0m\u001B[0m\n\u001B[1;32m   1660\u001B[0m     \u001B[0;32mdef\u001B[0m \u001B[0mrename_registered_model\u001B[0m\u001B[0;34m(\u001B[0m\u001B[0mself\u001B[0m\u001B[0;34m,\u001B[0m \u001B[0mname\u001B[0m\u001B[0;34m:\u001B[0m \u001B[0mstr\u001B[0m\u001B[0;34m,\u001B[0m \u001B[0mnew_name\u001B[0m\u001B[0;34m:\u001B[0m \u001B[0mstr\u001B[0m\u001B[0;34m)\u001B[0m \u001B[0;34m->\u001B[0m \u001B[0mRegisteredModel\u001B[0m\u001B[0;34m:\u001B[0m\u001B[0;34m\u001B[0m\u001B[0;34m\u001B[0m\u001B[0m\n",
      "\u001B[0;32m~/PIRELLI/venv/lib/python3.8/site-packages/mlflow/tracking/client.py\u001B[0m in \u001B[0;36m_get_registry_client\u001B[0;34m(self)\u001B[0m\n\u001B[1;32m    100\u001B[0m                 \u001B[0msetattr\u001B[0m\u001B[0;34m(\u001B[0m\u001B[0mself\u001B[0m\u001B[0;34m,\u001B[0m \u001B[0mregistry_client_attr\u001B[0m\u001B[0;34m,\u001B[0m \u001B[0mregistry_client\u001B[0m\u001B[0;34m)\u001B[0m\u001B[0;34m\u001B[0m\u001B[0;34m\u001B[0m\u001B[0m\n\u001B[1;32m    101\u001B[0m             \u001B[0;32mexcept\u001B[0m \u001B[0mUnsupportedModelRegistryStoreURIException\u001B[0m \u001B[0;32mas\u001B[0m \u001B[0mexc\u001B[0m\u001B[0;34m:\u001B[0m\u001B[0;34m\u001B[0m\u001B[0;34m\u001B[0m\u001B[0m\n\u001B[0;32m--> 102\u001B[0;31m                 raise MlflowException(\n\u001B[0m\u001B[1;32m    103\u001B[0m                     \u001B[0;34m\"Model Registry features are not supported by the store with URI:\"\u001B[0m\u001B[0;34m\u001B[0m\u001B[0;34m\u001B[0m\u001B[0m\n\u001B[1;32m    104\u001B[0m                     \u001B[0;34m\" '{uri}'. Stores with the following URI schemes are supported:\"\u001B[0m\u001B[0;34m\u001B[0m\u001B[0;34m\u001B[0m\u001B[0m\n",
      "\u001B[0;31mMlflowException\u001B[0m: Model Registry features are not supported by the store with URI: 'file:///Users/albertima/Projects/TradingRL/notebooks/mlruns'. Stores with the following URI schemes are supported: ['databricks', 'http', 'https', 'postgresql', 'mysql', 'sqlite', 'mssql']."
     ]
    }
   ],
   "source": [
    "with mlflow.start_run(run_name=\"base\"):\n",
    "    mlflow.log_param(\"batch\", 32)\n",
    "    mlflow.log_metric(\"accuracy\", 100)\n",
    "#     mlflow.log_artifacts()Log a local file or directory as an artifact of the currently active run.\n",
    "\n",
    "    mlflow.set_tag(\"Project\", \"singlestepforecasting\")\n",
    "\n",
    "\n"
   ],
   "metadata": {
    "collapsed": false,
    "pycharm": {
     "name": "#%%\n"
    }
   }
  },
  {
   "cell_type": "code",
   "execution_count": null,
   "outputs": [],
   "source": [],
   "metadata": {
    "collapsed": false,
    "pycharm": {
     "name": "#%%\n"
    }
   }
  },
  {
   "cell_type": "code",
   "execution_count": null,
   "outputs": [],
   "source": [],
   "metadata": {
    "collapsed": false,
    "pycharm": {
     "name": "#%%\n"
    }
   }
  },
  {
   "cell_type": "code",
   "execution_count": null,
   "outputs": [],
   "source": [],
   "metadata": {
    "collapsed": false,
    "pycharm": {
     "name": "#%%\n"
    }
   }
  }
 ],
 "metadata": {
  "kernelspec": {
   "display_name": "Python 3",
   "language": "python",
   "name": "python3"
  },
  "language_info": {
   "codemirror_mode": {
    "name": "ipython",
    "version": 2
   },
   "file_extension": ".py",
   "mimetype": "text/x-python",
   "name": "python",
   "nbconvert_exporter": "python",
   "pygments_lexer": "ipython2",
   "version": "2.7.6"
  }
 },
 "nbformat": 4,
 "nbformat_minor": 0
}